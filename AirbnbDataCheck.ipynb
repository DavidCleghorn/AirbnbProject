{
 "cells": [
  {
   "cell_type": "code",
   "execution_count": 2,
   "id": "59cd7ac6-0c8a-487e-825f-d55c6dc1e655",
   "metadata": {},
   "outputs": [],
   "source": [
    "import pandas as pd\n",
    "import numpy as np\n",
    "import matplotlib.pyplot as plt\n",
    "from sklearn.model_selection import train_test_split"
   ]
  },
  {
   "cell_type": "code",
   "execution_count": 5,
   "id": "6b7dea37-2a3c-4456-834a-9a613367caaf",
   "metadata": {},
   "outputs": [
    {
     "name": "stdout",
     "output_type": "stream",
     "text": [
      "<class 'pandas.core.frame.DataFrame'>\n",
      "RangeIndex: 4912 entries, 0 to 4911\n",
      "Data columns (total 37 columns):\n",
      " #   Column                       Non-Null Count  Dtype  \n",
      "---  ------                       --------------  -----  \n",
      " 0   id                           4912 non-null   int64  \n",
      " 1   listing_url                  4912 non-null   object \n",
      " 2   name                         4912 non-null   object \n",
      " 3   description                  4842 non-null   object \n",
      " 4   host_id                      4912 non-null   int64  \n",
      " 5   host_name                    4912 non-null   object \n",
      " 6   host_since                   4912 non-null   object \n",
      " 7   host_response_time           4603 non-null   object \n",
      " 8   host_response_rate           4603 non-null   object \n",
      " 9   host_acceptance_rate         4704 non-null   object \n",
      " 10  host_neighbourhood           4523 non-null   object \n",
      " 11  host_total_listings_count    4912 non-null   int64  \n",
      " 12  neighbourhood_cleansed       4912 non-null   object \n",
      " 13  latitude                     4912 non-null   float64\n",
      " 14  longitude                    4912 non-null   float64\n",
      " 15  property_type                4912 non-null   object \n",
      " 16  room_type                    4912 non-null   object \n",
      " 17  accommodates                 4912 non-null   int64  \n",
      " 18  bathrooms                    4741 non-null   float64\n",
      " 19  bathrooms_text               4907 non-null   object \n",
      " 20  bedrooms                     4879 non-null   float64\n",
      " 21  beds                         4738 non-null   float64\n",
      " 22  amenities                    4912 non-null   object \n",
      " 23  price                        4730 non-null   object \n",
      " 24  availability_30              4912 non-null   int64  \n",
      " 25  availability_365             4912 non-null   int64  \n",
      " 26  number_of_reviews            4912 non-null   int64  \n",
      " 27  first_review                 4160 non-null   object \n",
      " 28  last_review                  4160 non-null   object \n",
      " 29  review_scores_rating         4160 non-null   float64\n",
      " 30  review_scores_accuracy       4152 non-null   float64\n",
      " 31  review_scores_cleanliness    4152 non-null   float64\n",
      " 32  review_scores_checkin        4152 non-null   float64\n",
      " 33  review_scores_communication  4152 non-null   float64\n",
      " 34  review_scores_location       4151 non-null   float64\n",
      " 35  review_scores_value          4152 non-null   float64\n",
      " 36  reviews_per_month            4160 non-null   float64\n",
      "dtypes: float64(13), int64(7), object(17)\n",
      "memory usage: 1.4+ MB\n"
     ]
    }
   ],
   "source": [
    "airbnb = pd.read_csv(\"listings.csv\")\n",
    "airbnb.info()"
   ]
  },
  {
   "cell_type": "code",
   "execution_count": 3,
   "id": "4acdcbc0-d9ff-40c9-b0ff-7a6d855b8b23",
   "metadata": {},
   "outputs": [
    {
     "data": {
      "text/plain": [
       "4912"
      ]
     },
     "execution_count": 3,
     "metadata": {},
     "output_type": "execute_result"
    }
   ],
   "source": [
    "airbnb['id'].count()"
   ]
  },
  {
   "cell_type": "code",
   "execution_count": 4,
   "id": "d9072da1-0456-468d-8f27-10108ebcaebf",
   "metadata": {},
   "outputs": [
    {
     "data": {
      "text/plain": [
       "id                               int64\n",
       "listing_url                     object\n",
       "name                            object\n",
       "description                     object\n",
       "host_id                          int64\n",
       "host_name                       object\n",
       "host_since                      object\n",
       "host_response_time              object\n",
       "host_response_rate              object\n",
       "host_acceptance_rate            object\n",
       "host_neighbourhood              object\n",
       "host_total_listings_count        int64\n",
       "neighbourhood_cleansed          object\n",
       "latitude                       float64\n",
       "longitude                      float64\n",
       "property_type                   object\n",
       "room_type                       object\n",
       "accommodates                     int64\n",
       "bathrooms                      float64\n",
       "bathrooms_text                  object\n",
       "bedrooms                       float64\n",
       "beds                           float64\n",
       "amenities                       object\n",
       "price                           object\n",
       "availability_30                  int64\n",
       "availability_365                 int64\n",
       "number_of_reviews                int64\n",
       "first_review                    object\n",
       "last_review                     object\n",
       "review_scores_rating           float64\n",
       "review_scores_accuracy         float64\n",
       "review_scores_cleanliness      float64\n",
       "review_scores_checkin          float64\n",
       "review_scores_communication    float64\n",
       "review_scores_location         float64\n",
       "review_scores_value            float64\n",
       "reviews_per_month              float64\n",
       "dtype: object"
      ]
     },
     "execution_count": 4,
     "metadata": {},
     "output_type": "execute_result"
    }
   ],
   "source": [
    "airbnb.dtypes"
   ]
  },
  {
   "cell_type": "code",
   "execution_count": 5,
   "id": "911bce8a-84d1-420f-858a-53294d0d5145",
   "metadata": {},
   "outputs": [
    {
     "data": {
      "text/plain": [
       "0        85.0\n",
       "1        65.0\n",
       "2       243.0\n",
       "3        62.0\n",
       "4        54.0\n",
       "        ...  \n",
       "4907     58.0\n",
       "4908     38.0\n",
       "4909     79.0\n",
       "4910     75.0\n",
       "4911     91.0\n",
       "Name: price, Length: 4912, dtype: float64"
      ]
     },
     "execution_count": 5,
     "metadata": {},
     "output_type": "execute_result"
    }
   ],
   "source": [
    "# remove $ sign and commas from price\n",
    "airbnb['price'] = airbnb['price'].str.replace('$','').str.replace(',','').astype('float')\n",
    "airbnb.price"
   ]
  },
  {
   "cell_type": "code",
   "execution_count": 6,
   "id": "23203025-08da-47a8-9fe7-b1fe504e7b23",
   "metadata": {},
   "outputs": [
    {
     "data": {
      "text/plain": [
       "10000.0"
      ]
     },
     "execution_count": 6,
     "metadata": {},
     "output_type": "execute_result"
    }
   ],
   "source": [
    "max(airbnb.price)"
   ]
  },
  {
   "cell_type": "code",
   "execution_count": 9,
   "id": "9da857fb-2a85-4330-8d82-5ec4818c9a91",
   "metadata": {},
   "outputs": [],
   "source": [
    "cols = airbnb.columns.tolist()\n",
    "cols.remove('host_since')"
   ]
  },
  {
   "cell_type": "code",
   "execution_count": 14,
   "id": "297dea9d-60d8-470c-a908-5e30eb5135af",
   "metadata": {},
   "outputs": [],
   "source": [
    "airbnb['price'] = airbnb['price'].replace(0, np.nan)\n",
    "airbnb = airbnb.dropna(axis=0, how='any', subset=['price'])\n"
   ]
  },
  {
   "cell_type": "code",
   "execution_count": 15,
   "id": "97bfc02b-adb4-4fa1-9c9d-9ab7a6109207",
   "metadata": {},
   "outputs": [
    {
     "data": {
      "text/plain": [
       "4730"
      ]
     },
     "execution_count": 15,
     "metadata": {},
     "output_type": "execute_result"
    }
   ],
   "source": [
    "airbnb['price'].count()"
   ]
  },
  {
   "cell_type": "raw",
   "id": "d1dba271-4a6b-4718-ad0b-3c7000cfdb8d",
   "metadata": {},
   "source": [
    "airbnb.to_csv('newairbnb.csv', index = False)"
   ]
  }
 ],
 "metadata": {
  "kernelspec": {
   "display_name": "Python 3 (ipykernel)",
   "language": "python",
   "name": "python3"
  },
  "language_info": {
   "codemirror_mode": {
    "name": "ipython",
    "version": 3
   },
   "file_extension": ".py",
   "mimetype": "text/x-python",
   "name": "python",
   "nbconvert_exporter": "python",
   "pygments_lexer": "ipython3",
   "version": "3.12.4"
  }
 },
 "nbformat": 4,
 "nbformat_minor": 5
}
